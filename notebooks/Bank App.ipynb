{
 "cells": [
  {
   "cell_type": "code",
   "execution_count": 22,
   "metadata": {},
   "outputs": [],
   "source": [
    "import random"
   ]
  },
  {
   "cell_type": "code",
   "execution_count": 1,
   "metadata": {},
   "outputs": [],
   "source": [
    "%load_ext autoreload\n",
    "%autoreload 2"
   ]
  },
  {
   "cell_type": "code",
   "execution_count": 2,
   "metadata": {},
   "outputs": [],
   "source": [
    "from app import Bank"
   ]
  },
  {
   "cell_type": "code",
   "execution_count": 99,
   "metadata": {},
   "outputs": [],
   "source": [
    "bank = Bank('DKB')"
   ]
  },
  {
   "cell_type": "code",
   "execution_count": 90,
   "metadata": {},
   "outputs": [
    {
     "name": "stdout",
     "output_type": "stream",
     "text": [
      "Bank: DKB\n",
      "Accounts: []\n",
      "Transactions: []\n"
     ]
    }
   ],
   "source": [
    "print(f'Bank: {bank.name}')\n",
    "print(f'Accounts: {bank.accounts}')\n",
    "print(f'Transactions: {bank.transactions}')"
   ]
  },
  {
   "cell_type": "code",
   "execution_count": 104,
   "metadata": {},
   "outputs": [],
   "source": [
    "def enter_new_account_info():\n",
    "    print(\"Enter account number: \")\n",
    "    number = input()\n",
    "    print(\"Enter first name: \")\n",
    "    firstname = input()\n",
    "    print(\"Enter last name: \")\n",
    "    lastname = input()\n",
    "    open_account_info = {'number': number, 'firstname': firstname, 'lastname': lastname}\n",
    "    return open_account_info"
   ]
  },
  {
   "cell_type": "code",
   "execution_count": 106,
   "metadata": {
    "scrolled": true
   },
   "outputs": [
    {
     "name": "stdout",
     "output_type": "stream",
     "text": [
      "Enter account number: \n",
      "3\n",
      "Enter first name: \n",
      "tim\n",
      "Enter last name: \n",
      "fer\n"
     ]
    },
    {
     "data": {
      "text/plain": [
       "{'number': '3', 'firstname': 'tim', 'lastname': 'fer'}"
      ]
     },
     "execution_count": 106,
     "metadata": {},
     "output_type": "execute_result"
    }
   ],
   "source": [
    "bank.open_account(enter_new_account_info())"
   ]
  },
  {
   "cell_type": "code",
   "execution_count": 17,
   "metadata": {},
   "outputs": [
    {
     "data": {
      "text/plain": [
       "[{'number': '3', 'firstname': 'helga', 'lastname': 'schmitz'}]"
      ]
     },
     "execution_count": 17,
     "metadata": {},
     "output_type": "execute_result"
    }
   ],
   "source": [
    "bank.accounts"
   ]
  },
  {
   "cell_type": "code",
   "execution_count": 100,
   "metadata": {},
   "outputs": [],
   "source": [
    "account_numbers = [num for num in range (1,100)]\n",
    "test = \"ABCDEFGHIJKLMNOPQRSTUVWXYZ\"\n",
    "random_letter = lambda string: string[random.choice(range(0,len(string)))]\n",
    "firstname = [random_letter(test) + random_letter(test) for i in range(1,100)]\n",
    "lastname = [random_letter(test) + random_letter(test) for i in range(1,100)]"
   ]
  },
  {
   "cell_type": "code",
   "execution_count": 101,
   "metadata": {},
   "outputs": [],
   "source": [
    "for i in range(0,99):\n",
    "    new_account = {\"number\": account_numbers[i], \"firstname\": firstname[i], \"lastname\": lastname[i]}\n",
    "    bank.open_account(new_account)"
   ]
  },
  {
   "cell_type": "code",
   "execution_count": 122,
   "metadata": {
    "scrolled": true
   },
   "outputs": [
    {
     "data": {
      "text/plain": [
       "[{'number': 1, 'firstname': 'UB', 'lastname': 'XP'},\n",
       " {'number': 2, 'firstname': 'ED', 'lastname': 'YA'},\n",
       " {'number': 3, 'firstname': 'BP', 'lastname': 'QU'},\n",
       " {'number': 4, 'firstname': 'LG', 'lastname': 'KY'},\n",
       " {'number': 5, 'firstname': 'QU', 'lastname': 'RS'},\n",
       " {'number': 6, 'firstname': 'BY', 'lastname': 'GK'},\n",
       " {'number': 7, 'firstname': 'PC', 'lastname': 'VH'},\n",
       " {'number': 8, 'firstname': 'MH', 'lastname': 'LH'},\n",
       " {'number': 9, 'firstname': 'WP', 'lastname': 'XP'},\n",
       " {'number': 10, 'firstname': 'EV', 'lastname': 'VZ'},\n",
       " {'number': 11, 'firstname': 'HT', 'lastname': 'CM'},\n",
       " {'number': 12, 'firstname': 'XK', 'lastname': 'QF'},\n",
       " {'number': 13, 'firstname': 'DI', 'lastname': 'XW'},\n",
       " {'number': 14, 'firstname': 'EM', 'lastname': 'OV'},\n",
       " {'number': 15, 'firstname': 'FB', 'lastname': 'ZZ'},\n",
       " {'number': 16, 'firstname': 'SO', 'lastname': 'QQ'},\n",
       " {'number': 17, 'firstname': 'TQ', 'lastname': 'UE'},\n",
       " {'number': 18, 'firstname': 'WR', 'lastname': 'XI'},\n",
       " {'number': 19, 'firstname': 'GK', 'lastname': 'VC'},\n",
       " {'number': 20, 'firstname': 'VW', 'lastname': 'PF'},\n",
       " {'number': 21, 'firstname': 'GH', 'lastname': 'IW'},\n",
       " {'number': 22, 'firstname': 'YG', 'lastname': 'EM'},\n",
       " {'number': 23, 'firstname': 'MC', 'lastname': 'EO'},\n",
       " {'number': 24, 'firstname': 'PE', 'lastname': 'AX'},\n",
       " {'number': 25, 'firstname': 'RN', 'lastname': 'OO'},\n",
       " {'number': 26, 'firstname': 'ZQ', 'lastname': 'BA'},\n",
       " {'number': 27, 'firstname': 'OZ', 'lastname': 'UZ'},\n",
       " {'number': 28, 'firstname': 'AK', 'lastname': 'PN'},\n",
       " {'number': 29, 'firstname': 'EX', 'lastname': 'HH'},\n",
       " {'number': 30, 'firstname': 'KX', 'lastname': 'XZ'},\n",
       " {'number': 31, 'firstname': 'RS', 'lastname': 'YB'},\n",
       " {'number': 32, 'firstname': 'VH', 'lastname': 'LK'},\n",
       " {'number': 33, 'firstname': 'ZR', 'lastname': 'WF'},\n",
       " {'number': 34, 'firstname': 'JP', 'lastname': 'ZO'},\n",
       " {'number': 35, 'firstname': 'JI', 'lastname': 'MB'},\n",
       " {'number': 36, 'firstname': 'BP', 'lastname': 'OL'},\n",
       " {'number': 37, 'firstname': 'PK', 'lastname': 'KJ'},\n",
       " {'number': 38, 'firstname': 'HW', 'lastname': 'AE'},\n",
       " {'number': 39, 'firstname': 'QY', 'lastname': 'VV'},\n",
       " {'number': 40, 'firstname': 'TZ', 'lastname': 'NK'},\n",
       " {'number': 41, 'firstname': 'NF', 'lastname': 'CV'},\n",
       " {'number': 42, 'firstname': 'IM', 'lastname': 'SR'},\n",
       " {'number': 43, 'firstname': 'VE', 'lastname': 'NI'},\n",
       " {'number': 44, 'firstname': 'ES', 'lastname': 'SM'},\n",
       " {'number': 45, 'firstname': 'WI', 'lastname': 'JH'},\n",
       " {'number': 46, 'firstname': 'ZU', 'lastname': 'CB'},\n",
       " {'number': 47, 'firstname': 'MR', 'lastname': 'NW'},\n",
       " {'number': 48, 'firstname': 'ME', 'lastname': 'NC'},\n",
       " {'number': 49, 'firstname': 'PZ', 'lastname': 'EV'},\n",
       " {'number': 50, 'firstname': 'ZN', 'lastname': 'AP'},\n",
       " {'number': 51, 'firstname': 'QW', 'lastname': 'EW'},\n",
       " {'number': 52, 'firstname': 'LY', 'lastname': 'JT'},\n",
       " {'number': 53, 'firstname': 'OE', 'lastname': 'PE'},\n",
       " {'number': 54, 'firstname': 'AV', 'lastname': 'DF'},\n",
       " {'number': 55, 'firstname': 'HS', 'lastname': 'UP'},\n",
       " {'number': 56, 'firstname': 'EC', 'lastname': 'VF'},\n",
       " {'number': 57, 'firstname': 'KP', 'lastname': 'SH'},\n",
       " {'number': 58, 'firstname': 'SP', 'lastname': 'OM'},\n",
       " {'number': 59, 'firstname': 'UQ', 'lastname': 'ET'},\n",
       " {'number': 60, 'firstname': 'QE', 'lastname': 'YO'},\n",
       " {'number': 61, 'firstname': 'XS', 'lastname': 'KK'},\n",
       " {'number': 62, 'firstname': 'XC', 'lastname': 'SP'},\n",
       " {'number': 63, 'firstname': 'LM', 'lastname': 'FX'},\n",
       " {'number': 64, 'firstname': 'SY', 'lastname': 'DM'},\n",
       " {'number': 65, 'firstname': 'TT', 'lastname': 'AA'},\n",
       " {'number': 66, 'firstname': 'RL', 'lastname': 'EC'},\n",
       " {'number': 67, 'firstname': 'AF', 'lastname': 'HP'},\n",
       " {'number': 68, 'firstname': 'KX', 'lastname': 'UN'},\n",
       " {'number': 69, 'firstname': 'NX', 'lastname': 'DT'},\n",
       " {'number': 70, 'firstname': 'VU', 'lastname': 'WD'},\n",
       " {'number': 71, 'firstname': 'XV', 'lastname': 'IQ'},\n",
       " {'number': 72, 'firstname': 'FG', 'lastname': 'UF'},\n",
       " {'number': 73, 'firstname': 'WW', 'lastname': 'DT'},\n",
       " {'number': 74, 'firstname': 'AY', 'lastname': 'YE'},\n",
       " {'number': 75, 'firstname': 'HU', 'lastname': 'LV'},\n",
       " {'number': 76, 'firstname': 'DK', 'lastname': 'HH'},\n",
       " {'number': 77, 'firstname': 'WW', 'lastname': 'XF'},\n",
       " {'number': 78, 'firstname': 'QB', 'lastname': 'QA'},\n",
       " {'number': 79, 'firstname': 'VK', 'lastname': 'RT'},\n",
       " {'number': 80, 'firstname': 'MO', 'lastname': 'SG'},\n",
       " {'number': 81, 'firstname': 'OD', 'lastname': 'AH'},\n",
       " {'number': 82, 'firstname': 'US', 'lastname': 'AP'},\n",
       " {'number': 83, 'firstname': 'HY', 'lastname': 'BH'},\n",
       " {'number': 84, 'firstname': 'BA', 'lastname': 'QR'},\n",
       " {'number': 85, 'firstname': 'WM', 'lastname': 'UV'},\n",
       " {'number': 86, 'firstname': 'WQ', 'lastname': 'VF'},\n",
       " {'number': 87, 'firstname': 'DO', 'lastname': 'FA'},\n",
       " {'number': 88, 'firstname': 'SP', 'lastname': 'KZ'},\n",
       " {'number': 89, 'firstname': 'YJ', 'lastname': 'AE'},\n",
       " {'number': 90, 'firstname': 'TJ', 'lastname': 'UQ'},\n",
       " {'number': 91, 'firstname': 'BK', 'lastname': 'TT'},\n",
       " {'number': 92, 'firstname': 'GF', 'lastname': 'ZB'},\n",
       " {'number': 93, 'firstname': 'TL', 'lastname': 'UJ'},\n",
       " {'number': 94, 'firstname': 'OS', 'lastname': 'XS'},\n",
       " {'number': 95, 'firstname': 'ZC', 'lastname': 'XR'},\n",
       " {'number': 96, 'firstname': 'BW', 'lastname': 'NN'},\n",
       " {'number': 97, 'firstname': 'BJ', 'lastname': 'QY'},\n",
       " {'number': 98, 'firstname': 'KZ', 'lastname': 'GE'},\n",
       " {'number': 99, 'firstname': 'WV', 'lastname': 'ZZ'},\n",
       " {'number': '3', 'firstname': 'tim', 'lastname': 'fer'}]"
      ]
     },
     "execution_count": 122,
     "metadata": {},
     "output_type": "execute_result"
    }
   ],
   "source": [
    "bank.accounts"
   ]
  },
  {
   "cell_type": "code",
   "execution_count": 124,
   "metadata": {
    "scrolled": true
   },
   "outputs": [
    {
     "data": {
      "text/plain": [
       "[{'sender': {'number': 2, 'firstname': 'ED', 'lastname': 'YA'},\n",
       "  'recipient': {'number': 3, 'firstname': 'BP', 'lastname': 'QU'},\n",
       "  'subject': 'books',\n",
       "  'amount': 100}]"
      ]
     },
     "execution_count": 124,
     "metadata": {},
     "output_type": "execute_result"
    }
   ],
   "source": [
    "bank.add_transaction(sender=bank.accounts[1],recipient=bank.accounts[2],subject=\"books\",amount=100) "
   ]
  },
  {
   "cell_type": "code",
   "execution_count": 125,
   "metadata": {},
   "outputs": [
    {
     "data": {
      "text/plain": [
       "[[{'sender': {'number': 2, 'firstname': 'ED', 'lastname': 'YA'},\n",
       "   'recipient': {'number': 3, 'firstname': 'BP', 'lastname': 'QU'},\n",
       "   'subject': 'books',\n",
       "   'amount': 100}]]"
      ]
     },
     "execution_count": 125,
     "metadata": {},
     "output_type": "execute_result"
    }
   ],
   "source": [
    "bank.transactions"
   ]
  },
  {
   "cell_type": "code",
   "execution_count": null,
   "metadata": {},
   "outputs": [],
   "source": []
  }
 ],
 "metadata": {
  "kernelspec": {
   "display_name": "Python 3",
   "language": "python",
   "name": "python3"
  },
  "language_info": {
   "codemirror_mode": {
    "name": "ipython",
    "version": 3
   },
   "file_extension": ".py",
   "mimetype": "text/x-python",
   "name": "python",
   "nbconvert_exporter": "python",
   "pygments_lexer": "ipython3",
   "version": "3.6.8"
  }
 },
 "nbformat": 4,
 "nbformat_minor": 2
}
