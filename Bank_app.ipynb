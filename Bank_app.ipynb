{
 "cells": [
  {
   "cell_type": "code",
   "execution_count": 1,
   "metadata": {},
   "outputs": [],
   "source": [
    "from app import Bank, Transaction, Account"
   ]
  },
  {
   "cell_type": "code",
   "execution_count": 2,
   "metadata": {},
   "outputs": [],
   "source": [
    "bank = Bank(\"GLS\")"
   ]
  },
  {
   "cell_type": "code",
   "execution_count": 3,
   "metadata": {},
   "outputs": [],
   "source": [
    "account1 = Account(firstname='Albert',\n",
    "                              lastname='Einstein',\n",
    "                              number=1,\n",
    "                              balance=100.0)\n",
    "\n",
    "account2= Account(firstname='Tim',\n",
    "                              lastname='Vier',\n",
    "                              number=2,\n",
    "                              balance=300.0)"
   ]
  },
  {
   "cell_type": "code",
   "execution_count": 4,
   "metadata": {},
   "outputs": [
    {
     "data": {
      "text/plain": [
       "''"
      ]
     },
     "execution_count": 4,
     "metadata": {},
     "output_type": "execute_result"
    }
   ],
   "source": [
    "account1.bank_ref"
   ]
  },
  {
   "cell_type": "code",
   "execution_count": 5,
   "metadata": {},
   "outputs": [
    {
     "data": {
      "text/plain": [
       "<app.account.Account at 0x10d686668>"
      ]
     },
     "execution_count": 5,
     "metadata": {},
     "output_type": "execute_result"
    }
   ],
   "source": [
    "bank.open_account(account1)"
   ]
  },
  {
   "cell_type": "code",
   "execution_count": 6,
   "metadata": {},
   "outputs": [
    {
     "data": {
      "text/plain": [
       "<app.account.Account at 0x10d6866a0>"
      ]
     },
     "execution_count": 6,
     "metadata": {},
     "output_type": "execute_result"
    }
   ],
   "source": [
    "bank.open_account(account2)"
   ]
  },
  {
   "cell_type": "code",
   "execution_count": 7,
   "metadata": {},
   "outputs": [
    {
     "data": {
      "text/plain": [
       "'Einstein'"
      ]
     },
     "execution_count": 7,
     "metadata": {},
     "output_type": "execute_result"
    }
   ],
   "source": [
    "bank.accounts[1].lastname"
   ]
  },
  {
   "cell_type": "code",
   "execution_count": 8,
   "metadata": {},
   "outputs": [
    {
     "data": {
      "text/plain": [
       "<app.transaction.Transaction at 0x10d686a20>"
      ]
     },
     "execution_count": 8,
     "metadata": {},
     "output_type": "execute_result"
    }
   ],
   "source": [
    "bank.add_transaction(sender=account1, recipient=account2,subject='Bücher',amount=10.0)"
   ]
  },
  {
   "cell_type": "code",
   "execution_count": 9,
   "metadata": {},
   "outputs": [
    {
     "data": {
      "text/plain": [
       "<app.transaction.Transaction at 0x10d686c88>"
      ]
     },
     "execution_count": 9,
     "metadata": {},
     "output_type": "execute_result"
    }
   ],
   "source": [
    "bank.add_transaction(sender=account2, recipient=account1,subject='Schutzgeld',amount=50.0)"
   ]
  },
  {
   "cell_type": "code",
   "execution_count": 10,
   "metadata": {},
   "outputs": [
    {
     "data": {
      "text/plain": [
       "<app.transaction.Transaction at 0x10d686f60>"
      ]
     },
     "execution_count": 10,
     "metadata": {},
     "output_type": "execute_result"
    }
   ],
   "source": [
    "bank.add_transaction(sender=account2, recipient=account1,subject='Schutzgeld_3',amount=2.0)"
   ]
  },
  {
   "cell_type": "code",
   "execution_count": 11,
   "metadata": {},
   "outputs": [
    {
     "data": {
      "text/plain": [
       "<app.transaction.Transaction at 0x10d6a81d0>"
      ]
     },
     "execution_count": 11,
     "metadata": {},
     "output_type": "execute_result"
    }
   ],
   "source": [
    "bank.add_transaction(sender=account2, recipient=account1,subject='Schutzgeld_4',amount=10.0)"
   ]
  },
  {
   "cell_type": "code",
   "execution_count": 12,
   "metadata": {},
   "outputs": [
    {
     "data": {
      "text/plain": [
       "1"
      ]
     },
     "execution_count": 12,
     "metadata": {},
     "output_type": "execute_result"
    }
   ],
   "source": [
    "bank.transactions[0].sender"
   ]
  },
  {
   "cell_type": "code",
   "execution_count": 13,
   "metadata": {},
   "outputs": [
    {
     "data": {
      "text/plain": [
       "[<app.transaction.Transaction at 0x10d686a20>,\n",
       " <app.transaction.Transaction at 0x10d686c88>,\n",
       " <app.transaction.Transaction at 0x10d686f60>,\n",
       " <app.transaction.Transaction at 0x10d6a81d0>]"
      ]
     },
     "execution_count": 13,
     "metadata": {},
     "output_type": "execute_result"
    }
   ],
   "source": [
    "account1.bank_ref.transactions"
   ]
  },
  {
   "cell_type": "code",
   "execution_count": 14,
   "metadata": {},
   "outputs": [
    {
     "data": {
      "text/plain": [
       "1"
      ]
     },
     "execution_count": 14,
     "metadata": {},
     "output_type": "execute_result"
    }
   ],
   "source": [
    "account1.number"
   ]
  },
  {
   "cell_type": "code",
   "execution_count": 15,
   "metadata": {},
   "outputs": [
    {
     "name": "stdout",
     "output_type": "stream",
     "text": [
      "Date: 2019-02-08 15:57:44 Recipient: 2 Subject: Bücher Amount: -10.0\n",
      "Date: 2019-02-08 15:57:44 Sender: 2 Subject: Schutzgeld Amount: +50.0\n",
      "Date: 2019-02-08 15:57:44 Sender: 2 Subject: Schutzgeld_3 Amount: +2.0\n",
      "Date: 2019-02-08 15:57:44 Sender: 2 Subject: Schutzgeld_4 Amount: +10.0\n",
      "Total Balance: 152.0\n"
     ]
    }
   ],
   "source": [
    "account1.account_log()"
   ]
  },
  {
   "cell_type": "code",
   "execution_count": 16,
   "metadata": {},
   "outputs": [
    {
     "data": {
      "text/plain": [
       "{1: <app.account.Account at 0x10d686668>,\n",
       " 2: <app.account.Account at 0x10d6866a0>}"
      ]
     },
     "execution_count": 16,
     "metadata": {},
     "output_type": "execute_result"
    }
   ],
   "source": [
    "bank.accounts"
   ]
  },
  {
   "cell_type": "code",
   "execution_count": 17,
   "metadata": {},
   "outputs": [
    {
     "name": "stdout",
     "output_type": "stream",
     "text": [
      "Date: 2019-02-08 15:57:44 Recipient: 2 Subject: Bücher Amount: -10.0\n",
      "Date: 2019-02-08 15:57:44 Sender: 2 Subject: Schutzgeld Amount: +50.0\n",
      "Date: 2019-02-08 15:57:44 Sender: 2 Subject: Schutzgeld_3 Amount: +2.0\n",
      "Date: 2019-02-08 15:57:44 Sender: 2 Subject: Schutzgeld_4 Amount: +10.0\n",
      "Total Balance: 152.0\n"
     ]
    }
   ],
   "source": [
    "account1.account_log()"
   ]
  },
  {
   "cell_type": "code",
   "execution_count": 18,
   "metadata": {},
   "outputs": [
    {
     "data": {
      "text/plain": [
       "{1: <app.account.Account at 0x10d686668>,\n",
       " 2: <app.account.Account at 0x10d6866a0>}"
      ]
     },
     "execution_count": 18,
     "metadata": {},
     "output_type": "execute_result"
    }
   ],
   "source": [
    "account1.bank_ref.accounts"
   ]
  },
  {
   "cell_type": "code",
   "execution_count": 19,
   "metadata": {},
   "outputs": [
    {
     "name": "stdout",
     "output_type": "stream",
     "text": [
      "Date: 2019-02-08 15:57:44 Recipient: 2 Subject: Bücher Amount: -10.0\n",
      "Date: 2019-02-08 15:57:44 Sender: 2 Subject: Schutzgeld Amount: +50.0\n",
      "Date: 2019-02-08 15:57:44 Sender: 2 Subject: Schutzgeld_3 Amount: +2.0\n",
      "Date: 2019-02-08 15:57:44 Sender: 2 Subject: Schutzgeld_4 Amount: +10.0\n",
      "Total Balance: 152.0\n"
     ]
    }
   ],
   "source": [
    "bank.customer_log(1)"
   ]
  },
  {
   "cell_type": "code",
   "execution_count": 20,
   "metadata": {},
   "outputs": [],
   "source": [
    "def transaction_statistics(bank):\n",
    "    amount_list = ([i.amount for i in bank.transactions])\n",
    "    print('Mean transaction volumne: {}'.format(np.mean(amount_list)))\n",
    "    print('Number of transactions in record: {}'.format(len(bank.transactions)))\n",
    "    for i, q in enumerate(amount_list):\n",
    "        if q > np.percentile(np.array(amount_list), 95):\n",
    "            print('Extreme high transaction amount, please crosscheck transaction: {}, Amount: {}'\n",
    "            .format(i, amount_list[i]))"
   ]
  },
  {
   "cell_type": "code",
   "execution_count": 21,
   "metadata": {},
   "outputs": [
    {
     "name": "stdout",
     "output_type": "stream",
     "text": [
      "Mean transaction volumne: 18.0\n",
      "Min transaction volume: 2.0\n",
      "Max transaction volume: 50.0\n",
      "Number of transactions in record: 4\n",
      "Extreme high transaction amount, please crosscheck transaction: 1, Amount: 50.0\n"
     ]
    }
   ],
   "source": [
    "bank.transaction_statistics()"
   ]
  },
  {
   "cell_type": "code",
   "execution_count": 22,
   "metadata": {},
   "outputs": [],
   "source": [
    "example = [1, 3, 7, 2, 8, 20]"
   ]
  },
  {
   "cell_type": "code",
   "execution_count": 23,
   "metadata": {},
   "outputs": [
    {
     "name": "stdout",
     "output_type": "stream",
     "text": [
      "0 1\n",
      "1 3\n",
      "2 7\n",
      "3 2\n",
      "4 8\n",
      "5 20\n"
     ]
    }
   ],
   "source": [
    "for i, q in enumerate(example):\n",
    "    print(i,q)"
   ]
  },
  {
   "cell_type": "code",
   "execution_count": null,
   "metadata": {
    "scrolled": false
   },
   "outputs": [
    {
     "name": "stdout",
     "output_type": "stream",
     "text": [
      "Work faster!\n",
      "Please input a valid number, following accounts are occupied: [1, 2, 3, 5]\n"
     ]
    }
   ],
   "source": [
    "bank.open_account_manually()"
   ]
  },
  {
   "cell_type": "code",
   "execution_count": 49,
   "metadata": {},
   "outputs": [
    {
     "name": "stdout",
     "output_type": "stream",
     "text": [
      "[1, 2, 3]\n"
     ]
    }
   ],
   "source": [
    "print([i for i in bank.accounts.keys()])"
   ]
  },
  {
   "cell_type": "code",
   "execution_count": 50,
   "metadata": {},
   "outputs": [
    {
     "name": "stdout",
     "output_type": "stream",
     "text": [
      "1 Einstein\n",
      "2 Vier\n",
      "3 Bier\n"
     ]
    }
   ],
   "source": [
    "for key, inhalt in bank.accounts.items():\n",
    "    print(key, inhalt.lastname)"
   ]
  },
  {
   "cell_type": "code",
   "execution_count": 27,
   "metadata": {},
   "outputs": [
    {
     "data": {
      "text/plain": [
       "1"
      ]
     },
     "execution_count": 27,
     "metadata": {},
     "output_type": "execute_result"
    }
   ],
   "source": [
    "bank.accounts[1].number"
   ]
  },
  {
   "cell_type": "code",
   "execution_count": 28,
   "metadata": {},
   "outputs": [
    {
     "data": {
      "text/plain": [
       "dict_items([(1, <app.account.Account object at 0x10d686668>), (2, <app.account.Account object at 0x10d6866a0>), (3, <app.account.Account object at 0x106d2ff60>)])"
      ]
     },
     "execution_count": 28,
     "metadata": {},
     "output_type": "execute_result"
    }
   ],
   "source": [
    "bank.accounts.items()"
   ]
  },
  {
   "cell_type": "code",
   "execution_count": 29,
   "metadata": {},
   "outputs": [
    {
     "data": {
      "text/plain": [
       "{'name': 'GLS',\n",
       " 'accounts': {1: <app.account.Account at 0x10d686668>,\n",
       "  2: <app.account.Account at 0x10d6866a0>,\n",
       "  3: <app.account.Account at 0x106d2ff60>},\n",
       " 'transactions': [<app.transaction.Transaction at 0x10d686a20>,\n",
       "  <app.transaction.Transaction at 0x10d686c88>,\n",
       "  <app.transaction.Transaction at 0x10d686f60>,\n",
       "  <app.transaction.Transaction at 0x10d6a81d0>]}"
      ]
     },
     "execution_count": 29,
     "metadata": {},
     "output_type": "execute_result"
    }
   ],
   "source": [
    "vars(bank)"
   ]
  },
  {
   "cell_type": "code",
   "execution_count": 30,
   "metadata": {},
   "outputs": [
    {
     "data": {
      "text/plain": [
       "[<app.transaction.Transaction at 0x10d686a20>,\n",
       " <app.transaction.Transaction at 0x10d686c88>,\n",
       " <app.transaction.Transaction at 0x10d686f60>,\n",
       " <app.transaction.Transaction at 0x10d6a81d0>]"
      ]
     },
     "execution_count": 30,
     "metadata": {},
     "output_type": "execute_result"
    }
   ],
   "source": [
    "bank.transactions"
   ]
  },
  {
   "cell_type": "code",
   "execution_count": 31,
   "metadata": {},
   "outputs": [
    {
     "data": {
      "text/plain": [
       "False"
      ]
     },
     "execution_count": 31,
     "metadata": {},
     "output_type": "execute_result"
    }
   ],
   "source": [
    "5 in vars(bank.transactions[1]).values()"
   ]
  },
  {
   "cell_type": "code",
   "execution_count": 32,
   "metadata": {},
   "outputs": [
    {
     "data": {
      "text/plain": [
       "{'sender': 2,\n",
       " 'recipient': 1,\n",
       " 'subject': 'Schutzgeld',\n",
       " 'amount': 50.0,\n",
       " 'time_date': '2019-02-08 15:57:44'}"
      ]
     },
     "execution_count": 32,
     "metadata": {},
     "output_type": "execute_result"
    }
   ],
   "source": [
    "vars(bank.transactions[1])"
   ]
  },
  {
   "cell_type": "code",
   "execution_count": 33,
   "metadata": {},
   "outputs": [
    {
     "data": {
      "text/plain": [
       "[1, 3, 7, 2, 8, 20]"
      ]
     },
     "execution_count": 33,
     "metadata": {},
     "output_type": "execute_result"
    }
   ],
   "source": [
    "example"
   ]
  },
  {
   "cell_type": "code",
   "execution_count": 34,
   "metadata": {},
   "outputs": [],
   "source": [
    "#create random transactions"
   ]
  },
  {
   "cell_type": "code",
   "execution_count": 35,
   "metadata": {},
   "outputs": [],
   "source": [
    "import numpy as np\n",
    "import random\n",
    "from random_word import RandomWords\n",
    "r = RandomWords()"
   ]
  },
  {
   "cell_type": "code",
   "execution_count": 36,
   "metadata": {},
   "outputs": [
    {
     "data": {
      "text/plain": [
       "['bankroller',\n",
       " 'bitch-slap',\n",
       " 'chiasmus',\n",
       " 'inconscient',\n",
       " 'lawncare',\n",
       " 'lurvely',\n",
       " 'stephanos',\n",
       " 'temping',\n",
       " 'tumbrel',\n",
       " 'upbringing']"
      ]
     },
     "execution_count": 36,
     "metadata": {},
     "output_type": "execute_result"
    }
   ],
   "source": [
    "r.get_random_words()"
   ]
  },
  {
   "cell_type": "code",
   "execution_count": 37,
   "metadata": {},
   "outputs": [],
   "source": [
    "subjects = r.get_random_words()\n",
    "for i in range(10):\n",
    "    sender, recipient = random.sample(bank.accounts.keys(),2)\n",
    "    subject = subjects[i]\n",
    "    amount = random.uniform(0.0000001, bank.accounts[sender].balance)\n",
    "    bank.add_transaction(sender=bank.accounts[sender], recipient=bank.accounts[recipient],\n",
    "                         subject=subject, amount=amount)"
   ]
  },
  {
   "cell_type": "code",
   "execution_count": 38,
   "metadata": {},
   "outputs": [],
   "source": [
    "def random_transactions(self):\n",
    "    subjects = r.get_random_words()\n",
    "    for i in range(10):\n",
    "        sender, recipient = random.sample(self.accounts.keys(),2)\n",
    "        subject = subjects[i]\n",
    "        amount = random.uniform(0.0000001, self.accounts[sender].balance)\n",
    "        self.add_transaction(sender=self.accounts[sender], recipient=self.accounts[recipient],\n",
    "                         subject=subject, amount=amount)"
   ]
  },
  {
   "cell_type": "code",
   "execution_count": 39,
   "metadata": {},
   "outputs": [
    {
     "data": {
      "text/plain": [
       "[<app.transaction.Transaction at 0x10d686a20>,\n",
       " <app.transaction.Transaction at 0x10d686c88>,\n",
       " <app.transaction.Transaction at 0x10d686f60>,\n",
       " <app.transaction.Transaction at 0x10d6a81d0>,\n",
       " <app.transaction.Transaction at 0x105b10438>,\n",
       " <app.transaction.Transaction at 0x1057a2198>,\n",
       " <app.transaction.Transaction at 0x1057a2e80>,\n",
       " <app.transaction.Transaction at 0x10d6d5c18>,\n",
       " <app.transaction.Transaction at 0x10d6d5e48>,\n",
       " <app.transaction.Transaction at 0x10d6d5dd8>,\n",
       " <app.transaction.Transaction at 0x10d6d5eb8>,\n",
       " <app.transaction.Transaction at 0x10d6d5d68>,\n",
       " <app.transaction.Transaction at 0x10d6d5da0>,\n",
       " <app.transaction.Transaction at 0x10d6d5c50>,\n",
       " <app.transaction.Transaction at 0x10d6d5860>,\n",
       " <app.transaction.Transaction at 0x10d6d55f8>,\n",
       " <app.transaction.Transaction at 0x10d6d5240>,\n",
       " <app.transaction.Transaction at 0x10d6d5390>,\n",
       " <app.transaction.Transaction at 0x10d6d59b0>,\n",
       " <app.transaction.Transaction at 0x10d6d5b00>,\n",
       " <app.transaction.Transaction at 0x10d6d50f0>,\n",
       " <app.transaction.Transaction at 0x10d6d5978>,\n",
       " <app.transaction.Transaction at 0x10d6d5f98>,\n",
       " <app.transaction.Transaction at 0x10d6d5f60>]"
      ]
     },
     "execution_count": 39,
     "metadata": {},
     "output_type": "execute_result"
    }
   ],
   "source": [
    "bank.random_transactions()"
   ]
  },
  {
   "cell_type": "code",
   "execution_count": 40,
   "metadata": {},
   "outputs": [
    {
     "data": {
      "text/plain": [
       "'upas-tree'"
      ]
     },
     "execution_count": 40,
     "metadata": {},
     "output_type": "execute_result"
    }
   ],
   "source": [
    "subject"
   ]
  },
  {
   "cell_type": "code",
   "execution_count": 41,
   "metadata": {},
   "outputs": [
    {
     "data": {
      "text/plain": [
       "(3, 2)"
      ]
     },
     "execution_count": 41,
     "metadata": {},
     "output_type": "execute_result"
    }
   ],
   "source": [
    "sender, recipient"
   ]
  },
  {
   "cell_type": "code",
   "execution_count": 42,
   "metadata": {},
   "outputs": [
    {
     "data": {
      "text/plain": [
       "'upas-tree'"
      ]
     },
     "execution_count": 42,
     "metadata": {},
     "output_type": "execute_result"
    }
   ],
   "source": [
    "subject"
   ]
  },
  {
   "cell_type": "code",
   "execution_count": 43,
   "metadata": {},
   "outputs": [
    {
     "data": {
      "text/plain": [
       "21.850706221691265"
      ]
     },
     "execution_count": 43,
     "metadata": {},
     "output_type": "execute_result"
    }
   ],
   "source": [
    "amount"
   ]
  },
  {
   "cell_type": "code",
   "execution_count": 44,
   "metadata": {},
   "outputs": [
    {
     "data": {
      "text/plain": [
       "(743.551695911698, 656.3889842860584)"
      ]
     },
     "execution_count": 44,
     "metadata": {},
     "output_type": "execute_result"
    }
   ],
   "source": [
    "bank.accounts[sender].balance, bank.accounts[recipient].balance"
   ]
  },
  {
   "cell_type": "code",
   "execution_count": 45,
   "metadata": {},
   "outputs": [
    {
     "data": {
      "text/plain": [
       "[<app.transaction.Transaction at 0x10d686a20>,\n",
       " <app.transaction.Transaction at 0x10d686c88>,\n",
       " <app.transaction.Transaction at 0x10d686f60>,\n",
       " <app.transaction.Transaction at 0x10d6a81d0>,\n",
       " <app.transaction.Transaction at 0x105b10438>,\n",
       " <app.transaction.Transaction at 0x1057a2198>,\n",
       " <app.transaction.Transaction at 0x1057a2e80>,\n",
       " <app.transaction.Transaction at 0x10d6d5c18>,\n",
       " <app.transaction.Transaction at 0x10d6d5e48>,\n",
       " <app.transaction.Transaction at 0x10d6d5dd8>,\n",
       " <app.transaction.Transaction at 0x10d6d5eb8>,\n",
       " <app.transaction.Transaction at 0x10d6d5d68>,\n",
       " <app.transaction.Transaction at 0x10d6d5da0>,\n",
       " <app.transaction.Transaction at 0x10d6d5c50>,\n",
       " <app.transaction.Transaction at 0x10d6d5860>,\n",
       " <app.transaction.Transaction at 0x10d6d55f8>,\n",
       " <app.transaction.Transaction at 0x10d6d5240>,\n",
       " <app.transaction.Transaction at 0x10d6d5390>,\n",
       " <app.transaction.Transaction at 0x10d6d59b0>,\n",
       " <app.transaction.Transaction at 0x10d6d5b00>,\n",
       " <app.transaction.Transaction at 0x10d6d50f0>,\n",
       " <app.transaction.Transaction at 0x10d6d5978>,\n",
       " <app.transaction.Transaction at 0x10d6d5f98>,\n",
       " <app.transaction.Transaction at 0x10d6d5f60>]"
      ]
     },
     "execution_count": 45,
     "metadata": {},
     "output_type": "execute_result"
    }
   ],
   "source": [
    "bank.transactions"
   ]
  },
  {
   "cell_type": "code",
   "execution_count": 46,
   "metadata": {},
   "outputs": [
    {
     "data": {
      "text/plain": [
       "267.3833139352891"
      ]
     },
     "execution_count": 46,
     "metadata": {},
     "output_type": "execute_result"
    }
   ],
   "source": [
    "random.uniform(1, bank.accounts[sender].balance)"
   ]
  },
  {
   "cell_type": "code",
   "execution_count": 47,
   "metadata": {},
   "outputs": [
    {
     "name": "stdout",
     "output_type": "stream",
     "text": [
      "Date: 2019-02-08 16:00:28 Recipient: 2 Subject: blackberry bush Amount: -41.29701473406943\n",
      "Date: 2019-02-08 16:00:28 Recipient: 2 Subject: counter-party Amount: -361.8919033988018\n",
      "Date: 2019-02-08 16:00:28 Recipient: 2 Subject: exterminator Amount: -222.4310995729702\n",
      "Date: 2019-02-08 16:00:28 Recipient: 1 Subject: petsit Amount: -117.80328716686381\n",
      "Date: 2019-02-08 16:00:28 Sender: 2 Subject: royalties Amount: +38.16787768286057\n",
      "Date: 2019-02-08 16:00:28 Recipient: 2 Subject: school-pence Amount: -46.48398400216451\n",
      "Date: 2019-02-08 16:00:28 Recipient: 2 Subject: upas-tree Amount: -21.850706221691265\n",
      "Date: 2019-02-08 16:00:30 Sender: 1 Subject: abiogenesis Amount: +223.74153730091345\n",
      "Date: 2019-02-08 16:00:30 Recipient: 1 Subject: backlogs Amount: -68.61993649020897\n",
      "Date: 2019-02-08 16:00:30 Sender: 1 Subject: banker Amount: +356.09386966355606\n",
      "Date: 2019-02-08 16:00:30 Recipient: 1 Subject: gluten-free Amount: -179.71672739700054\n",
      "Date: 2019-02-08 16:00:30 Sender: 1 Subject: handy Amount: +614.647712725568\n",
      "Date: 2019-02-08 16:00:30 Sender: 1 Subject: hogget Amount: +50.965573191273904\n",
      "Date: 2019-02-08 16:00:30 Recipient: 2 Subject: rapparees Amount: -598.0211572947527\n",
      "Date: 2019-02-08 16:00:30 Sender: 1 Subject: raveled Amount: +117.26695215408448\n",
      "Date: 2019-02-08 16:00:30 Sender: 1 Subject: rollicks Amount: +0.7839894719645703\n",
      "Total Balance: 743.551695911698\n"
     ]
    }
   ],
   "source": [
    "bank.customer_log(3)"
   ]
  },
  {
   "cell_type": "code",
   "execution_count": 48,
   "metadata": {},
   "outputs": [
    {
     "data": {
      "text/plain": [
       "{1: <app.account.Account at 0x10d686668>,\n",
       " 2: <app.account.Account at 0x10d6866a0>,\n",
       " 3: <app.account.Account at 0x106d2ff60>}"
      ]
     },
     "execution_count": 48,
     "metadata": {},
     "output_type": "execute_result"
    }
   ],
   "source": [
    "bank.accounts"
   ]
  },
  {
   "cell_type": "code",
   "execution_count": null,
   "metadata": {},
   "outputs": [],
   "source": []
  }
 ],
 "metadata": {
  "kernelspec": {
   "display_name": "Python 3",
   "language": "python",
   "name": "python3"
  },
  "language_info": {
   "codemirror_mode": {
    "name": "ipython",
    "version": 3
   },
   "file_extension": ".py",
   "mimetype": "text/x-python",
   "name": "python",
   "nbconvert_exporter": "python",
   "pygments_lexer": "ipython3",
   "version": "3.6.8"
  }
 },
 "nbformat": 4,
 "nbformat_minor": 2
}
