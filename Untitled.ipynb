{
 "cells": [
  {
   "cell_type": "code",
   "execution_count": 5,
   "metadata": {},
   "outputs": [
    {
     "data": {
      "text/plain": [
       "float"
      ]
     },
     "execution_count": 5,
     "metadata": {},
     "output_type": "execute_result"
    }
   ],
   "source": []
  },
  {
   "cell_type": "code",
   "execution_count": 18,
   "metadata": {},
   "outputs": [],
   "source": [
    "import pandas as pd\n",
    "import random\n",
    "import matplotlib.pyplot as plt"
   ]
  },
  {
   "cell_type": "code",
   "execution_count": 3,
   "metadata": {},
   "outputs": [],
   "source": [
    "df = pd.DataFrame()"
   ]
  },
  {
   "cell_type": "code",
   "execution_count": 5,
   "metadata": {},
   "outputs": [
    {
     "data": {
      "text/plain": [
       "pandas.core.frame.DataFrame"
      ]
     },
     "execution_count": 5,
     "metadata": {},
     "output_type": "execute_result"
    }
   ],
   "source": [
    "type(df)"
   ]
  },
  {
   "cell_type": "code",
   "execution_count": 22,
   "metadata": {},
   "outputs": [],
   "source": [
    "xx = [random.gauss(2,6) for i in range(1000)]"
   ]
  },
  {
   "cell_type": "code",
   "execution_count": 23,
   "metadata": {},
   "outputs": [
    {
     "data": {
      "text/plain": [
       "(array([ 1.,  0.,  0.,  0.,  0.,  1.,  4.,  7.,  5.,  5., 10., 14., 14.,\n",
       "         8., 22., 28., 29., 46., 38., 51., 50., 46., 59., 58., 44., 44.,\n",
       "        53., 53., 53., 44., 35., 44., 23., 17., 13., 26., 16., 16.,  7.,\n",
       "         2.,  3.,  2.,  3.,  2.,  0.,  1.,  2.,  0.,  0.,  1.]),\n",
       " array([-18.22502926, -17.3940303 , -16.56303135, -15.73203239,\n",
       "        -14.90103344, -14.07003448, -13.23903553, -12.40803657,\n",
       "        -11.57703762, -10.74603866,  -9.91503971,  -9.08404075,\n",
       "         -8.2530418 ,  -7.42204284,  -6.59104389,  -5.76004493,\n",
       "         -4.92904598,  -4.09804702,  -3.26704807,  -2.43604911,\n",
       "         -1.60505016,  -0.7740512 ,   0.05694775,   0.88794671,\n",
       "          1.71894566,   2.54994462,   3.38094357,   4.21194253,\n",
       "          5.04294148,   5.87394044,   6.70493939,   7.53593835,\n",
       "          8.3669373 ,   9.19793626,  10.02893521,  10.85993417,\n",
       "         11.69093312,  12.52193208,  13.35293103,  14.18392999,\n",
       "         15.01492894,  15.8459279 ,  16.67692685,  17.50792581,\n",
       "         18.33892476,  19.16992372,  20.00092267,  20.83192163,\n",
       "         21.66292058,  22.49391954,  23.32491849]),\n",
       " <a list of 50 Patch objects>)"
      ]
     },
     "execution_count": 23,
     "metadata": {},
     "output_type": "execute_result"
    },
    {
     "data": {
      "image/png": "[encoded data removed]",
      "text/plain": [
       "<Figure size 432x288 with 1 Axes>"
      ]
     },
     "metadata": {
      "needs_background": "light"
     },
     "output_type": "display_data"
    }
   ],
   "source": [
    "plt.hist(xx, bins=50)"
   ]
  },
  {
   "cell_type": "markdown",
   "metadata": {},
   "source": [
    "### Distribution Generator"
   ]
  },
  {
   "cell_type": "code",
   "execution_count": 24,
   "metadata": {},
   "outputs": [
    {
     "data": {
      "text/plain": [
       "range"
      ]
     },
     "execution_count": 24,
     "metadata": {},
     "output_type": "execute_result"
    }
   ],
   "source": [
    "type(range(5,6))"
   ]
  },
  {
   "cell_type": "code",
   "execution_count": 27,
   "metadata": {},
   "outputs": [
    {
     "name": "stdout",
     "output_type": "stream",
     "text": [
      "10\n",
      "12\n",
      "14\n",
      "16\n",
      "18\n"
     ]
    }
   ],
   "source": [
    "for i in range(10,20,2):\n",
    "    print(i)"
   ]
  },
  {
   "cell_type": "code",
   "execution_count": null,
   "metadata": {},
   "outputs": [],
   "source": [
    "# account -> bank\n",
    "# bank -> account"
   ]
  },
  {
   "cell_type": "code",
   "execution_count": 31,
   "metadata": {},
   "outputs": [],
   "source": [
    "import time\n",
    "import datetime"
   ]
  },
  {
   "cell_type": "code",
   "execution_count": 33,
   "metadata": {},
   "outputs": [],
   "source": [
    "ts = time.time()"
   ]
  },
  {
   "cell_type": "code",
   "execution_count": 75,
   "metadata": {},
   "outputs": [
    {
     "data": {
      "text/plain": [
       "'2019-02-07 14:34:12'"
      ]
     },
     "execution_count": 75,
     "metadata": {},
     "output_type": "execute_result"
    }
   ],
   "source": [
    "datetime.datetime.fromtimestamp(time.time()).strftime('%Y-%m-%d %H:%M:%S')"
   ]
  },
  {
   "cell_type": "code",
   "execution_count": 35,
   "metadata": {},
   "outputs": [
    {
     "data": {
      "text/plain": [
       "'2019-02-07 13:49:25'"
      ]
     },
     "execution_count": 35,
     "metadata": {},
     "output_type": "execute_result"
    }
   ],
   "source": [
    "st"
   ]
  },
  {
   "cell_type": "code",
   "execution_count": null,
   "metadata": {},
   "outputs": [],
   "source": [
    "# Kontoauszug einer Person: Account number"
   ]
  },
  {
   "cell_type": "code",
   "execution_count": 4,
   "metadata": {},
   "outputs": [],
   "source": [
    "class Account():\n",
    "    def __init__(self, firstname, lastname, number, balance=0.0):\n",
    "        assert type(number) == int, 'Number needs to be an integer!'\n",
    "        assert type(balance) == float, 'Balance needs to be a float!'\n",
    "        self.firstname = firstname\n",
    "        self.lastname = lastname\n",
    "        self.number = number\n",
    "        self.balance = balance\n",
    "        self.logbook = {}\n",
    "\n",
    "    def info(self):\n",
    "        return 'Number {}: {} {} - {} €'.format(\n",
    "            self.number,\n",
    "            self.firstname,\n",
    "            self.lastname,\n",
    "            self.balance)\n",
    "\n",
    "    def has_funds_for(self, funds_ask):\n",
    "        return self.balance > funds_ask\n",
    "\n",
    "    def add_to_balance(self, add_balance):\n",
    "        assert add_balance > 0, 'Amount needs to be greater than 0'\n",
    "        self.balance += add_balance\n",
    "        return self.balance\n",
    "\n",
    "    def subtract_from_balance(self, sub_balance):\n",
    "        assert self.has_funds_for(sub_balance), 'Account has not enough funds'\n",
    "        self.balance -= sub_balance\n",
    "        return self.balance\n"
   ]
  },
  {
   "cell_type": "code",
   "execution_count": 40,
   "metadata": {},
   "outputs": [],
   "source": [
    "acc1 = Account('Tim', 'Vier',3 , 10.0)"
   ]
  },
  {
   "cell_type": "code",
   "execution_count": 41,
   "metadata": {},
   "outputs": [
    {
     "data": {
      "text/plain": [
       "{}"
      ]
     },
     "execution_count": 41,
     "metadata": {},
     "output_type": "execute_result"
    }
   ],
   "source": [
    "acc1.logbook"
   ]
  },
  {
   "cell_type": "code",
   "execution_count": 43,
   "metadata": {},
   "outputs": [],
   "source": [
    "example = {1: {\"Time\": \"7.2018\", \"Sign\": \"-\", \"Amount\": 3, \"Name\": \"Tim Viergutz\"},\n",
    "          2: {\"Time\": \"8.2018\", \"Sign\": \"+\", \"Amount\": 5, \"Name\": \"Tim piere\"}}\n",
    "    "
   ]
  },
  {
   "cell_type": "code",
   "execution_count": 46,
   "metadata": {},
   "outputs": [
    {
     "data": {
      "text/plain": [
       "2"
      ]
     },
     "execution_count": 46,
     "metadata": {},
     "output_type": "execute_result"
    }
   ],
   "source": [
    "len(example)"
   ]
  },
  {
   "cell_type": "code",
   "execution_count": 57,
   "metadata": {},
   "outputs": [
    {
     "name": "stdout",
     "output_type": "stream",
     "text": [
      "{'Time': '7.2018', 'Sign': '-', 'Amount': 3, 'Name': 'Tim Viergutz'}\n",
      "{'Time': '8.2018', 'Sign': '+', 'Amount': 5, 'Name': 'Tim piere'}\n"
     ]
    }
   ],
   "source": [
    "for i in range(1,len(example)+1):\n",
    "    print (example[i])"
   ]
  },
  {
   "cell_type": "code",
   "execution_count": 3,
   "metadata": {},
   "outputs": [],
   "source": [
    "class Transaction():\n",
    "    def __init__(self, sender, recipient, subject, amount):\n",
    "        assert type(sender) == int, 'Sender needs to be an integer'\n",
    "        assert type(recipient) == int, 'Recipient needs to be an integer'\n",
    "        assert type(amount) == float, 'Amount needs to be a float'\n",
    "        assert amount > 0, 'Amount needs to be greater than 0'\n",
    "        self.sender = sender\n",
    "        self.recipient = recipient\n",
    "        self.subject = subject\n",
    "        self.amount = amount\n",
    "        self.time_date = datetime.datetime.fromtimestamp(time.time()).strftime('%Y-%m-%d %H:%M:%S')\n",
    "\n",
    "    def info(self):\n",
    "        return 'From {} to {}: {} - {} €'.format(\n",
    "            self.sender,\n",
    "            self.recipient,\n",
    "            self.subject,\n",
    "            self.amount\n",
    "        )"
   ]
  },
  {
   "cell_type": "code",
   "execution_count": 77,
   "metadata": {},
   "outputs": [],
   "source": [
    "transact1 = Transaction(sender=1,recipient=2,subject='Test transaction', amount=10.0)"
   ]
  },
  {
   "cell_type": "code",
   "execution_count": 78,
   "metadata": {},
   "outputs": [
    {
     "data": {
      "text/plain": [
       "'2019-02-07 14:34:44'"
      ]
     },
     "execution_count": 78,
     "metadata": {},
     "output_type": "execute_result"
    }
   ],
   "source": [
    "transact1.time_date"
   ]
  },
  {
   "cell_type": "code",
   "execution_count": 1,
   "metadata": {},
   "outputs": [],
   "source": [
    "class Bank:\n",
    "    def __init__(self, name):\n",
    "        self.name = name\n",
    "        self.accounts = {}\n",
    "        self.transactions = []\n",
    "\n",
    "    def open_account(self, account_object):\n",
    "        assert isinstance(account_object, app.Account), 'Account should be an app.Account'\n",
    "        assert account_object.number not in self.accounts.keys(), 'Account number {} already taken!'.format(account_object.number)\n",
    "        self.accounts[account_object.number] = account_object\n",
    "        return self.accounts[account_object.number]\n",
    "\n",
    "    def add_transaction(self, sender, recipient, subject, amount):\n",
    "        assert sender.number in self.accounts.keys(), 'Sender has no account yet!'\n",
    "        assert recipient.number in self.accounts.keys(), 'Recipient has no account yet!'\n",
    "        assert self.accounts[sender.number].balance >= amount, 'Account has not enough funds'\n",
    "        transaction = app.Transaction(\n",
    "            sender=sender.number,\n",
    "            recipient=recipient.number,\n",
    "            subject=subject,\n",
    "            amount=amount)\n",
    "        self.transactions.append(transaction)\n",
    "        sender.subtract_from_balance(amount)\n",
    "        recipient.add_to_balance(amount)\n",
    "        return transaction\n",
    "    \n",
    "    #def log_transaction(self, tr"
   ]
  },
  {
   "cell_type": "code",
   "execution_count": 2,
   "metadata": {},
   "outputs": [],
   "source": [
    "spaßkasse = Bank('spasskasse')"
   ]
  },
  {
   "cell_type": "code",
   "execution_count": 79,
   "metadata": {},
   "outputs": [
    {
     "data": {
      "text/plain": [
       "0"
      ]
     },
     "execution_count": 79,
     "metadata": {},
     "output_type": "execute_result"
    }
   ],
   "source": [
    "len(spaßkasse.accounts)"
   ]
  },
  {
   "cell_type": "code",
   "execution_count": 6,
   "metadata": {},
   "outputs": [],
   "source": [
    "bank = Bank('GLS')\n",
    "einstein = Account(**{\n",
    "            'number': 1,\n",
    "            'firstname': 'Albert',\n",
    "            'lastname': 'Einstein',\n",
    "            'balance': 500.0})\n",
    "\n",
    "    \n",
    "\n"
   ]
  },
  {
   "cell_type": "code",
   "execution_count": 8,
   "metadata": {},
   "outputs": [
    {
     "ename": "NameError",
     "evalue": "name 'app' is not defined",
     "output_type": "error",
     "traceback": [
      "\u001b[0;31m---------------------------------------------------------------------------\u001b[0m",
      "\u001b[0;31mNameError\u001b[0m                                 Traceback (most recent call last)",
      "\u001b[0;32m<ipython-input-8-d48f6a88edcc>\u001b[0m in \u001b[0;36m<module>\u001b[0;34m\u001b[0m\n\u001b[0;32m----> 1\u001b[0;31m \u001b[0mbank\u001b[0m\u001b[0;34m.\u001b[0m\u001b[0mopen_account\u001b[0m\u001b[0;34m(\u001b[0m\u001b[0meinstein\u001b[0m\u001b[0;34m)\u001b[0m\u001b[0;34m\u001b[0m\u001b[0;34m\u001b[0m\u001b[0m\n\u001b[0m",
      "\u001b[0;32m<ipython-input-1-1e2f018999eb>\u001b[0m in \u001b[0;36mopen_account\u001b[0;34m(self, account_object)\u001b[0m\n\u001b[1;32m      6\u001b[0m \u001b[0;34m\u001b[0m\u001b[0m\n\u001b[1;32m      7\u001b[0m     \u001b[0;32mdef\u001b[0m \u001b[0mopen_account\u001b[0m\u001b[0;34m(\u001b[0m\u001b[0mself\u001b[0m\u001b[0;34m,\u001b[0m \u001b[0maccount_object\u001b[0m\u001b[0;34m)\u001b[0m\u001b[0;34m:\u001b[0m\u001b[0;34m\u001b[0m\u001b[0;34m\u001b[0m\u001b[0m\n\u001b[0;32m----> 8\u001b[0;31m         \u001b[0;32massert\u001b[0m \u001b[0misinstance\u001b[0m\u001b[0;34m(\u001b[0m\u001b[0maccount_object\u001b[0m\u001b[0;34m,\u001b[0m \u001b[0mapp\u001b[0m\u001b[0;34m.\u001b[0m\u001b[0mAccount\u001b[0m\u001b[0;34m)\u001b[0m\u001b[0;34m,\u001b[0m \u001b[0;34m'Account should be an app.Account'\u001b[0m\u001b[0;34m\u001b[0m\u001b[0;34m\u001b[0m\u001b[0m\n\u001b[0m\u001b[1;32m      9\u001b[0m         \u001b[0;32massert\u001b[0m \u001b[0maccount_object\u001b[0m\u001b[0;34m.\u001b[0m\u001b[0mnumber\u001b[0m \u001b[0;32mnot\u001b[0m \u001b[0;32min\u001b[0m \u001b[0mself\u001b[0m\u001b[0;34m.\u001b[0m\u001b[0maccounts\u001b[0m\u001b[0;34m.\u001b[0m\u001b[0mkeys\u001b[0m\u001b[0;34m(\u001b[0m\u001b[0;34m)\u001b[0m\u001b[0;34m,\u001b[0m \u001b[0;34m'Account number {} already taken!'\u001b[0m\u001b[0;34m.\u001b[0m\u001b[0mformat\u001b[0m\u001b[0;34m(\u001b[0m\u001b[0maccount_object\u001b[0m\u001b[0;34m.\u001b[0m\u001b[0mnumber\u001b[0m\u001b[0;34m)\u001b[0m\u001b[0;34m\u001b[0m\u001b[0;34m\u001b[0m\u001b[0m\n\u001b[1;32m     10\u001b[0m         \u001b[0mself\u001b[0m\u001b[0;34m.\u001b[0m\u001b[0maccounts\u001b[0m\u001b[0;34m[\u001b[0m\u001b[0maccount_object\u001b[0m\u001b[0;34m.\u001b[0m\u001b[0mnumber\u001b[0m\u001b[0;34m]\u001b[0m \u001b[0;34m=\u001b[0m \u001b[0maccount_object\u001b[0m\u001b[0;34m\u001b[0m\u001b[0;34m\u001b[0m\u001b[0m\n",
      "\u001b[0;31mNameError\u001b[0m: name 'app' is not defined"
     ]
    }
   ],
   "source": [
    "bank.open_account(einstein)"
   ]
  },
  {
   "cell_type": "code",
   "execution_count": 11,
   "metadata": {},
   "outputs": [
    {
     "ename": "SyntaxError",
     "evalue": "unexpected EOF while parsing (bank.py, line 32)",
     "output_type": "error",
     "traceback": [
      "Traceback \u001b[0;36m(most recent call last)\u001b[0m:\n",
      "  File \u001b[1;32m\"/anaconda3/envs/neue-fische-bank-app/lib/python3.6/site-packages/IPython/core/interactiveshell.py\"\u001b[0m, line \u001b[1;32m3267\u001b[0m, in \u001b[1;35mrun_code\u001b[0m\n    exec(code_obj, self.user_global_ns, self.user_ns)\n",
      "  File \u001b[1;32m\"<ipython-input-11-f1503eb11baf>\"\u001b[0m, line \u001b[1;32m1\u001b[0m, in \u001b[1;35m<module>\u001b[0m\n    from app import Bank\n",
      "\u001b[0;36m  File \u001b[0;32m\"/Users/tim4/PycharmProjects/DS-bank-app/src/app/__init__.py\"\u001b[0;36m, line \u001b[0;32m1\u001b[0;36m, in \u001b[0;35m<module>\u001b[0;36m\u001b[0m\n\u001b[0;31m    from .bank import Bank\u001b[0m\n",
      "\u001b[0;36m  File \u001b[0;32m\"/Users/tim4/PycharmProjects/DS-bank-app/src/app/bank.py\"\u001b[0;36m, line \u001b[0;32m32\u001b[0m\n\u001b[0;31m    \u001b[0m\n\u001b[0m    ^\u001b[0m\n\u001b[0;31mSyntaxError\u001b[0m\u001b[0;31m:\u001b[0m unexpected EOF while parsing\n"
     ]
    }
   ],
   "source": [
    "from app import Bank"
   ]
  },
  {
   "cell_type": "code",
   "execution_count": null,
   "metadata": {},
   "outputs": [],
   "source": []
  }
 ],
 "metadata": {
  "kernelspec": {
   "display_name": "Python 3",
   "language": "python",
   "name": "python3"
  },
  "language_info": {
   "codemirror_mode": {
    "name": "ipython",
    "version": 3
   },
   "file_extension": ".py",
   "mimetype": "text/x-python",
   "name": "python",
   "nbconvert_exporter": "python",
   "pygments_lexer": "ipython3",
   "version": "3.6.8"
  }
 },
 "nbformat": 4,
 "nbformat_minor": 2
}
